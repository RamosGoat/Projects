{
  "cells": [
    {
      "cell_type": "markdown",
      "metadata": {
        "id": "view-in-github",
        "colab_type": "text"
      },
      "source": [
        "<a href=\"https://colab.research.google.com/github/RamosGoat/Projects/blob/main/Walmart.ipynb\" target=\"_parent\"><img src=\"https://colab.research.google.com/assets/colab-badge.svg\" alt=\"Open In Colab\"/></a>"
      ]
    },
    {
      "cell_type": "code",
      "execution_count": null,
      "metadata": {
        "id": "HblVk9QPMX0Q"
      },
      "outputs": [],
      "source": [
        "import numpy as np\n",
        "import matplotlib.pyplot as plt\n",
        "import pandas as pd\n",
        "import seaborn as sns\n",
        "from scipy import stats\n",
        "from scipy.stats import f_oneway"
      ]
    },
    {
      "cell_type": "markdown",
      "source": [
        "1. Import the dataset and do usual data analysis steps like checking the structure &\n",
        "characteristics of the dataset"
      ],
      "metadata": {
        "id": "KbhRvgSxri5U"
      }
    },
    {
      "cell_type": "code",
      "execution_count": null,
      "metadata": {
        "colab": {
          "base_uri": "https://localhost:8080/"
        },
        "id": "VylnVcU7Miif",
        "outputId": "2cff1bff-b46a-40d8-a1ac-a59ee207a6ed"
      },
      "outputs": [
        {
          "output_type": "execute_result",
          "data": {
            "text/plain": [
              "(550068, 10)"
            ]
          },
          "metadata": {},
          "execution_count": 95
        }
      ],
      "source": [
        "df = pd.read_csv(\"/content/walmart_data.csv\")\n",
        "df.shape"
      ]
    },
    {
      "cell_type": "code",
      "source": [
        "df.info()"
      ],
      "metadata": {
        "colab": {
          "base_uri": "https://localhost:8080/"
        },
        "id": "Ie8H3fy_vBJF",
        "outputId": "d955b661-1ef0-46d1-b6f5-12d92effff05"
      },
      "execution_count": null,
      "outputs": [
        {
          "output_type": "stream",
          "name": "stdout",
          "text": [
            "<class 'pandas.core.frame.DataFrame'>\n",
            "RangeIndex: 550068 entries, 0 to 550067\n",
            "Data columns (total 10 columns):\n",
            " #   Column                      Non-Null Count   Dtype \n",
            "---  ------                      --------------   ----- \n",
            " 0   User_ID                     550068 non-null  int64 \n",
            " 1   Product_ID                  550068 non-null  object\n",
            " 2   Gender                      550068 non-null  object\n",
            " 3   Age                         550068 non-null  object\n",
            " 4   Occupation                  550068 non-null  int64 \n",
            " 5   City_Category               550068 non-null  object\n",
            " 6   Stay_In_Current_City_Years  550068 non-null  object\n",
            " 7   Marital_Status              550068 non-null  int64 \n",
            " 8   Product_Category            550068 non-null  int64 \n",
            " 9   Purchase                    550068 non-null  int64 \n",
            "dtypes: int64(5), object(5)\n",
            "memory usage: 42.0+ MB\n"
          ]
        }
      ]
    },
    {
      "cell_type": "code",
      "source": [
        "df.sample(20)"
      ],
      "metadata": {
        "id": "nKmcT5zLZbU0",
        "colab": {
          "base_uri": "https://localhost:8080/",
          "height": 1000
        },
        "outputId": "f1f30730-ce08-4b4c-93a9-916e4d714a8d"
      },
      "execution_count": null,
      "outputs": [
        {
          "output_type": "execute_result",
          "data": {
            "text/plain": [
              "        User_ID Product_ID Gender    Age  Occupation City_Category  \\\n",
              "333768  1003450  P00150942      M  26-35           5             B   \n",
              "164570  1001421  P00161442      F   0-17          10             A   \n",
              "189981  1005350  P00201442      M  18-25           5             A   \n",
              "215009  1003231  P00026042      M  26-35           7             A   \n",
              "195065  1000099  P00309142      F   0-17          10             C   \n",
              "198591  1000678  P00231142      M  26-35           0             A   \n",
              "435286  1001051  P00345742      F  26-35           0             A   \n",
              "174797  1003051  P00332242      M  18-25          17             B   \n",
              "267714  1005256  P00001642      M  26-35          16             B   \n",
              "144544  1004287  P00208742      M  26-35           7             C   \n",
              "275126  1000408  P00265342      M  26-35          11             A   \n",
              "358406  1001205  P00296342      F    55+           0             C   \n",
              "268351  1005359  P00248442      M  18-25          16             B   \n",
              "47521   1001288  P00252742      F  36-45          19             C   \n",
              "248865  1002293  P00117542      F    55+           3             B   \n",
              "409732  1003087  P00003442      F   0-17           1             B   \n",
              "539075  1005002  P00312142      M  26-35          17             B   \n",
              "35136   1005428  P00002542      F  26-35           6             B   \n",
              "167959  1001912  P00057342      M  26-35           4             A   \n",
              "17659   1002781  P00183342      M  36-45           4             C   \n",
              "\n",
              "       Stay_In_Current_City_Years  Marital_Status  Product_Category  Purchase  \n",
              "333768                          3               0                 6     16647  \n",
              "164570                          1               0                 5      3722  \n",
              "189981                          1               0                 1     11456  \n",
              "215009                          1               1                 8      9878  \n",
              "195065                          1               0                 1     11786  \n",
              "198591                          0               1                 5      3636  \n",
              "435286                          0               1                 1     15704  \n",
              "174797                          0               0                 1     11583  \n",
              "267714                         4+               1                 8      8001  \n",
              "144544                          2               1                 1     19557  \n",
              "275126                          0               0                 7     12914  \n",
              "358406                          1               1                 8     10022  \n",
              "268351                          3               0                 3     13265  \n",
              "47521                           1               0                 8      5842  \n",
              "248865                          1               1                18      3791  \n",
              "409732                          0               0                 4      2786  \n",
              "539075                          1               1                 8      9860  \n",
              "35136                          4+               0                 8     10065  \n",
              "167959                          1               1                 4       718  \n",
              "17659                           2               1                 5      6890  "
            ],
            "text/html": [
              "\n",
              "  <div id=\"df-b49bd1a0-fa48-4e22-98a3-695c0b5d94b6\" class=\"colab-df-container\">\n",
              "    <div>\n",
              "<style scoped>\n",
              "    .dataframe tbody tr th:only-of-type {\n",
              "        vertical-align: middle;\n",
              "    }\n",
              "\n",
              "    .dataframe tbody tr th {\n",
              "        vertical-align: top;\n",
              "    }\n",
              "\n",
              "    .dataframe thead th {\n",
              "        text-align: right;\n",
              "    }\n",
              "</style>\n",
              "<table border=\"1\" class=\"dataframe\">\n",
              "  <thead>\n",
              "    <tr style=\"text-align: right;\">\n",
              "      <th></th>\n",
              "      <th>User_ID</th>\n",
              "      <th>Product_ID</th>\n",
              "      <th>Gender</th>\n",
              "      <th>Age</th>\n",
              "      <th>Occupation</th>\n",
              "      <th>City_Category</th>\n",
              "      <th>Stay_In_Current_City_Years</th>\n",
              "      <th>Marital_Status</th>\n",
              "      <th>Product_Category</th>\n",
              "      <th>Purchase</th>\n",
              "    </tr>\n",
              "  </thead>\n",
              "  <tbody>\n",
              "    <tr>\n",
              "      <th>333768</th>\n",
              "      <td>1003450</td>\n",
              "      <td>P00150942</td>\n",
              "      <td>M</td>\n",
              "      <td>26-35</td>\n",
              "      <td>5</td>\n",
              "      <td>B</td>\n",
              "      <td>3</td>\n",
              "      <td>0</td>\n",
              "      <td>6</td>\n",
              "      <td>16647</td>\n",
              "    </tr>\n",
              "    <tr>\n",
              "      <th>164570</th>\n",
              "      <td>1001421</td>\n",
              "      <td>P00161442</td>\n",
              "      <td>F</td>\n",
              "      <td>0-17</td>\n",
              "      <td>10</td>\n",
              "      <td>A</td>\n",
              "      <td>1</td>\n",
              "      <td>0</td>\n",
              "      <td>5</td>\n",
              "      <td>3722</td>\n",
              "    </tr>\n",
              "    <tr>\n",
              "      <th>189981</th>\n",
              "      <td>1005350</td>\n",
              "      <td>P00201442</td>\n",
              "      <td>M</td>\n",
              "      <td>18-25</td>\n",
              "      <td>5</td>\n",
              "      <td>A</td>\n",
              "      <td>1</td>\n",
              "      <td>0</td>\n",
              "      <td>1</td>\n",
              "      <td>11456</td>\n",
              "    </tr>\n",
              "    <tr>\n",
              "      <th>215009</th>\n",
              "      <td>1003231</td>\n",
              "      <td>P00026042</td>\n",
              "      <td>M</td>\n",
              "      <td>26-35</td>\n",
              "      <td>7</td>\n",
              "      <td>A</td>\n",
              "      <td>1</td>\n",
              "      <td>1</td>\n",
              "      <td>8</td>\n",
              "      <td>9878</td>\n",
              "    </tr>\n",
              "    <tr>\n",
              "      <th>195065</th>\n",
              "      <td>1000099</td>\n",
              "      <td>P00309142</td>\n",
              "      <td>F</td>\n",
              "      <td>0-17</td>\n",
              "      <td>10</td>\n",
              "      <td>C</td>\n",
              "      <td>1</td>\n",
              "      <td>0</td>\n",
              "      <td>1</td>\n",
              "      <td>11786</td>\n",
              "    </tr>\n",
              "    <tr>\n",
              "      <th>198591</th>\n",
              "      <td>1000678</td>\n",
              "      <td>P00231142</td>\n",
              "      <td>M</td>\n",
              "      <td>26-35</td>\n",
              "      <td>0</td>\n",
              "      <td>A</td>\n",
              "      <td>0</td>\n",
              "      <td>1</td>\n",
              "      <td>5</td>\n",
              "      <td>3636</td>\n",
              "    </tr>\n",
              "    <tr>\n",
              "      <th>435286</th>\n",
              "      <td>1001051</td>\n",
              "      <td>P00345742</td>\n",
              "      <td>F</td>\n",
              "      <td>26-35</td>\n",
              "      <td>0</td>\n",
              "      <td>A</td>\n",
              "      <td>0</td>\n",
              "      <td>1</td>\n",
              "      <td>1</td>\n",
              "      <td>15704</td>\n",
              "    </tr>\n",
              "    <tr>\n",
              "      <th>174797</th>\n",
              "      <td>1003051</td>\n",
              "      <td>P00332242</td>\n",
              "      <td>M</td>\n",
              "      <td>18-25</td>\n",
              "      <td>17</td>\n",
              "      <td>B</td>\n",
              "      <td>0</td>\n",
              "      <td>0</td>\n",
              "      <td>1</td>\n",
              "      <td>11583</td>\n",
              "    </tr>\n",
              "    <tr>\n",
              "      <th>267714</th>\n",
              "      <td>1005256</td>\n",
              "      <td>P00001642</td>\n",
              "      <td>M</td>\n",
              "      <td>26-35</td>\n",
              "      <td>16</td>\n",
              "      <td>B</td>\n",
              "      <td>4+</td>\n",
              "      <td>1</td>\n",
              "      <td>8</td>\n",
              "      <td>8001</td>\n",
              "    </tr>\n",
              "    <tr>\n",
              "      <th>144544</th>\n",
              "      <td>1004287</td>\n",
              "      <td>P00208742</td>\n",
              "      <td>M</td>\n",
              "      <td>26-35</td>\n",
              "      <td>7</td>\n",
              "      <td>C</td>\n",
              "      <td>2</td>\n",
              "      <td>1</td>\n",
              "      <td>1</td>\n",
              "      <td>19557</td>\n",
              "    </tr>\n",
              "    <tr>\n",
              "      <th>275126</th>\n",
              "      <td>1000408</td>\n",
              "      <td>P00265342</td>\n",
              "      <td>M</td>\n",
              "      <td>26-35</td>\n",
              "      <td>11</td>\n",
              "      <td>A</td>\n",
              "      <td>0</td>\n",
              "      <td>0</td>\n",
              "      <td>7</td>\n",
              "      <td>12914</td>\n",
              "    </tr>\n",
              "    <tr>\n",
              "      <th>358406</th>\n",
              "      <td>1001205</td>\n",
              "      <td>P00296342</td>\n",
              "      <td>F</td>\n",
              "      <td>55+</td>\n",
              "      <td>0</td>\n",
              "      <td>C</td>\n",
              "      <td>1</td>\n",
              "      <td>1</td>\n",
              "      <td>8</td>\n",
              "      <td>10022</td>\n",
              "    </tr>\n",
              "    <tr>\n",
              "      <th>268351</th>\n",
              "      <td>1005359</td>\n",
              "      <td>P00248442</td>\n",
              "      <td>M</td>\n",
              "      <td>18-25</td>\n",
              "      <td>16</td>\n",
              "      <td>B</td>\n",
              "      <td>3</td>\n",
              "      <td>0</td>\n",
              "      <td>3</td>\n",
              "      <td>13265</td>\n",
              "    </tr>\n",
              "    <tr>\n",
              "      <th>47521</th>\n",
              "      <td>1001288</td>\n",
              "      <td>P00252742</td>\n",
              "      <td>F</td>\n",
              "      <td>36-45</td>\n",
              "      <td>19</td>\n",
              "      <td>C</td>\n",
              "      <td>1</td>\n",
              "      <td>0</td>\n",
              "      <td>8</td>\n",
              "      <td>5842</td>\n",
              "    </tr>\n",
              "    <tr>\n",
              "      <th>248865</th>\n",
              "      <td>1002293</td>\n",
              "      <td>P00117542</td>\n",
              "      <td>F</td>\n",
              "      <td>55+</td>\n",
              "      <td>3</td>\n",
              "      <td>B</td>\n",
              "      <td>1</td>\n",
              "      <td>1</td>\n",
              "      <td>18</td>\n",
              "      <td>3791</td>\n",
              "    </tr>\n",
              "    <tr>\n",
              "      <th>409732</th>\n",
              "      <td>1003087</td>\n",
              "      <td>P00003442</td>\n",
              "      <td>F</td>\n",
              "      <td>0-17</td>\n",
              "      <td>1</td>\n",
              "      <td>B</td>\n",
              "      <td>0</td>\n",
              "      <td>0</td>\n",
              "      <td>4</td>\n",
              "      <td>2786</td>\n",
              "    </tr>\n",
              "    <tr>\n",
              "      <th>539075</th>\n",
              "      <td>1005002</td>\n",
              "      <td>P00312142</td>\n",
              "      <td>M</td>\n",
              "      <td>26-35</td>\n",
              "      <td>17</td>\n",
              "      <td>B</td>\n",
              "      <td>1</td>\n",
              "      <td>1</td>\n",
              "      <td>8</td>\n",
              "      <td>9860</td>\n",
              "    </tr>\n",
              "    <tr>\n",
              "      <th>35136</th>\n",
              "      <td>1005428</td>\n",
              "      <td>P00002542</td>\n",
              "      <td>F</td>\n",
              "      <td>26-35</td>\n",
              "      <td>6</td>\n",
              "      <td>B</td>\n",
              "      <td>4+</td>\n",
              "      <td>0</td>\n",
              "      <td>8</td>\n",
              "      <td>10065</td>\n",
              "    </tr>\n",
              "    <tr>\n",
              "      <th>167959</th>\n",
              "      <td>1001912</td>\n",
              "      <td>P00057342</td>\n",
              "      <td>M</td>\n",
              "      <td>26-35</td>\n",
              "      <td>4</td>\n",
              "      <td>A</td>\n",
              "      <td>1</td>\n",
              "      <td>1</td>\n",
              "      <td>4</td>\n",
              "      <td>718</td>\n",
              "    </tr>\n",
              "    <tr>\n",
              "      <th>17659</th>\n",
              "      <td>1002781</td>\n",
              "      <td>P00183342</td>\n",
              "      <td>M</td>\n",
              "      <td>36-45</td>\n",
              "      <td>4</td>\n",
              "      <td>C</td>\n",
              "      <td>2</td>\n",
              "      <td>1</td>\n",
              "      <td>5</td>\n",
              "      <td>6890</td>\n",
              "    </tr>\n",
              "  </tbody>\n",
              "</table>\n",
              "</div>\n",
              "    <div class=\"colab-df-buttons\">\n",
              "\n",
              "  <div class=\"colab-df-container\">\n",
              "    <button class=\"colab-df-convert\" onclick=\"convertToInteractive('df-b49bd1a0-fa48-4e22-98a3-695c0b5d94b6')\"\n",
              "            title=\"Convert this dataframe to an interactive table.\"\n",
              "            style=\"display:none;\">\n",
              "\n",
              "  <svg xmlns=\"http://www.w3.org/2000/svg\" height=\"24px\" viewBox=\"0 -960 960 960\">\n",
              "    <path d=\"M120-120v-720h720v720H120Zm60-500h600v-160H180v160Zm220 220h160v-160H400v160Zm0 220h160v-160H400v160ZM180-400h160v-160H180v160Zm440 0h160v-160H620v160ZM180-180h160v-160H180v160Zm440 0h160v-160H620v160Z\"/>\n",
              "  </svg>\n",
              "    </button>\n",
              "\n",
              "  <style>\n",
              "    .colab-df-container {\n",
              "      display:flex;\n",
              "      gap: 12px;\n",
              "    }\n",
              "\n",
              "    .colab-df-convert {\n",
              "      background-color: #E8F0FE;\n",
              "      border: none;\n",
              "      border-radius: 50%;\n",
              "      cursor: pointer;\n",
              "      display: none;\n",
              "      fill: #1967D2;\n",
              "      height: 32px;\n",
              "      padding: 0 0 0 0;\n",
              "      width: 32px;\n",
              "    }\n",
              "\n",
              "    .colab-df-convert:hover {\n",
              "      background-color: #E2EBFA;\n",
              "      box-shadow: 0px 1px 2px rgba(60, 64, 67, 0.3), 0px 1px 3px 1px rgba(60, 64, 67, 0.15);\n",
              "      fill: #174EA6;\n",
              "    }\n",
              "\n",
              "    .colab-df-buttons div {\n",
              "      margin-bottom: 4px;\n",
              "    }\n",
              "\n",
              "    [theme=dark] .colab-df-convert {\n",
              "      background-color: #3B4455;\n",
              "      fill: #D2E3FC;\n",
              "    }\n",
              "\n",
              "    [theme=dark] .colab-df-convert:hover {\n",
              "      background-color: #434B5C;\n",
              "      box-shadow: 0px 1px 3px 1px rgba(0, 0, 0, 0.15);\n",
              "      filter: drop-shadow(0px 1px 2px rgba(0, 0, 0, 0.3));\n",
              "      fill: #FFFFFF;\n",
              "    }\n",
              "  </style>\n",
              "\n",
              "    <script>\n",
              "      const buttonEl =\n",
              "        document.querySelector('#df-b49bd1a0-fa48-4e22-98a3-695c0b5d94b6 button.colab-df-convert');\n",
              "      buttonEl.style.display =\n",
              "        google.colab.kernel.accessAllowed ? 'block' : 'none';\n",
              "\n",
              "      async function convertToInteractive(key) {\n",
              "        const element = document.querySelector('#df-b49bd1a0-fa48-4e22-98a3-695c0b5d94b6');\n",
              "        const dataTable =\n",
              "          await google.colab.kernel.invokeFunction('convertToInteractive',\n",
              "                                                    [key], {});\n",
              "        if (!dataTable) return;\n",
              "\n",
              "        const docLinkHtml = 'Like what you see? Visit the ' +\n",
              "          '<a target=\"_blank\" href=https://colab.research.google.com/notebooks/data_table.ipynb>data table notebook</a>'\n",
              "          + ' to learn more about interactive tables.';\n",
              "        element.innerHTML = '';\n",
              "        dataTable['output_type'] = 'display_data';\n",
              "        await google.colab.output.renderOutput(dataTable, element);\n",
              "        const docLink = document.createElement('div');\n",
              "        docLink.innerHTML = docLinkHtml;\n",
              "        element.appendChild(docLink);\n",
              "      }\n",
              "    </script>\n",
              "  </div>\n",
              "\n",
              "\n",
              "<div id=\"df-0e798ad7-928b-4457-be0c-ecfc35cc8399\">\n",
              "  <button class=\"colab-df-quickchart\" onclick=\"quickchart('df-0e798ad7-928b-4457-be0c-ecfc35cc8399')\"\n",
              "            title=\"Suggest charts\"\n",
              "            style=\"display:none;\">\n",
              "\n",
              "<svg xmlns=\"http://www.w3.org/2000/svg\" height=\"24px\"viewBox=\"0 0 24 24\"\n",
              "     width=\"24px\">\n",
              "    <g>\n",
              "        <path d=\"M19 3H5c-1.1 0-2 .9-2 2v14c0 1.1.9 2 2 2h14c1.1 0 2-.9 2-2V5c0-1.1-.9-2-2-2zM9 17H7v-7h2v7zm4 0h-2V7h2v10zm4 0h-2v-4h2v4z\"/>\n",
              "    </g>\n",
              "</svg>\n",
              "  </button>\n",
              "\n",
              "<style>\n",
              "  .colab-df-quickchart {\n",
              "      --bg-color: #E8F0FE;\n",
              "      --fill-color: #1967D2;\n",
              "      --hover-bg-color: #E2EBFA;\n",
              "      --hover-fill-color: #174EA6;\n",
              "      --disabled-fill-color: #AAA;\n",
              "      --disabled-bg-color: #DDD;\n",
              "  }\n",
              "\n",
              "  [theme=dark] .colab-df-quickchart {\n",
              "      --bg-color: #3B4455;\n",
              "      --fill-color: #D2E3FC;\n",
              "      --hover-bg-color: #434B5C;\n",
              "      --hover-fill-color: #FFFFFF;\n",
              "      --disabled-bg-color: #3B4455;\n",
              "      --disabled-fill-color: #666;\n",
              "  }\n",
              "\n",
              "  .colab-df-quickchart {\n",
              "    background-color: var(--bg-color);\n",
              "    border: none;\n",
              "    border-radius: 50%;\n",
              "    cursor: pointer;\n",
              "    display: none;\n",
              "    fill: var(--fill-color);\n",
              "    height: 32px;\n",
              "    padding: 0;\n",
              "    width: 32px;\n",
              "  }\n",
              "\n",
              "  .colab-df-quickchart:hover {\n",
              "    background-color: var(--hover-bg-color);\n",
              "    box-shadow: 0 1px 2px rgba(60, 64, 67, 0.3), 0 1px 3px 1px rgba(60, 64, 67, 0.15);\n",
              "    fill: var(--button-hover-fill-color);\n",
              "  }\n",
              "\n",
              "  .colab-df-quickchart-complete:disabled,\n",
              "  .colab-df-quickchart-complete:disabled:hover {\n",
              "    background-color: var(--disabled-bg-color);\n",
              "    fill: var(--disabled-fill-color);\n",
              "    box-shadow: none;\n",
              "  }\n",
              "\n",
              "  .colab-df-spinner {\n",
              "    border: 2px solid var(--fill-color);\n",
              "    border-color: transparent;\n",
              "    border-bottom-color: var(--fill-color);\n",
              "    animation:\n",
              "      spin 1s steps(1) infinite;\n",
              "  }\n",
              "\n",
              "  @keyframes spin {\n",
              "    0% {\n",
              "      border-color: transparent;\n",
              "      border-bottom-color: var(--fill-color);\n",
              "      border-left-color: var(--fill-color);\n",
              "    }\n",
              "    20% {\n",
              "      border-color: transparent;\n",
              "      border-left-color: var(--fill-color);\n",
              "      border-top-color: var(--fill-color);\n",
              "    }\n",
              "    30% {\n",
              "      border-color: transparent;\n",
              "      border-left-color: var(--fill-color);\n",
              "      border-top-color: var(--fill-color);\n",
              "      border-right-color: var(--fill-color);\n",
              "    }\n",
              "    40% {\n",
              "      border-color: transparent;\n",
              "      border-right-color: var(--fill-color);\n",
              "      border-top-color: var(--fill-color);\n",
              "    }\n",
              "    60% {\n",
              "      border-color: transparent;\n",
              "      border-right-color: var(--fill-color);\n",
              "    }\n",
              "    80% {\n",
              "      border-color: transparent;\n",
              "      border-right-color: var(--fill-color);\n",
              "      border-bottom-color: var(--fill-color);\n",
              "    }\n",
              "    90% {\n",
              "      border-color: transparent;\n",
              "      border-bottom-color: var(--fill-color);\n",
              "    }\n",
              "  }\n",
              "</style>\n",
              "\n",
              "  <script>\n",
              "    async function quickchart(key) {\n",
              "      const quickchartButtonEl =\n",
              "        document.querySelector('#' + key + ' button');\n",
              "      quickchartButtonEl.disabled = true;  // To prevent multiple clicks.\n",
              "      quickchartButtonEl.classList.add('colab-df-spinner');\n",
              "      try {\n",
              "        const charts = await google.colab.kernel.invokeFunction(\n",
              "            'suggestCharts', [key], {});\n",
              "      } catch (error) {\n",
              "        console.error('Error during call to suggestCharts:', error);\n",
              "      }\n",
              "      quickchartButtonEl.classList.remove('colab-df-spinner');\n",
              "      quickchartButtonEl.classList.add('colab-df-quickchart-complete');\n",
              "    }\n",
              "    (() => {\n",
              "      let quickchartButtonEl =\n",
              "        document.querySelector('#df-0e798ad7-928b-4457-be0c-ecfc35cc8399 button');\n",
              "      quickchartButtonEl.style.display =\n",
              "        google.colab.kernel.accessAllowed ? 'block' : 'none';\n",
              "    })();\n",
              "  </script>\n",
              "</div>\n",
              "\n",
              "    </div>\n",
              "  </div>\n"
            ],
            "application/vnd.google.colaboratory.intrinsic+json": {
              "type": "dataframe",
              "summary": "{\n  \"name\": \"df\",\n  \"rows\": 20,\n  \"fields\": [\n    {\n      \"column\": \"User_ID\",\n      \"properties\": {\n        \"dtype\": \"number\",\n        \"std\": 1808,\n        \"min\": 1000099,\n        \"max\": 1005428,\n        \"num_unique_values\": 20,\n        \"samples\": [\n          1003450,\n          1005428,\n          1003087\n        ],\n        \"semantic_type\": \"\",\n        \"description\": \"\"\n      }\n    },\n    {\n      \"column\": \"Product_ID\",\n      \"properties\": {\n        \"dtype\": \"string\",\n        \"num_unique_values\": 20,\n        \"samples\": [\n          \"P00150942\",\n          \"P00002542\",\n          \"P00003442\"\n        ],\n        \"semantic_type\": \"\",\n        \"description\": \"\"\n      }\n    },\n    {\n      \"column\": \"Gender\",\n      \"properties\": {\n        \"dtype\": \"category\",\n        \"num_unique_values\": 2,\n        \"samples\": [\n          \"F\",\n          \"M\"\n        ],\n        \"semantic_type\": \"\",\n        \"description\": \"\"\n      }\n    },\n    {\n      \"column\": \"Age\",\n      \"properties\": {\n        \"dtype\": \"category\",\n        \"num_unique_values\": 5,\n        \"samples\": [\n          \"0-17\",\n          \"36-45\"\n        ],\n        \"semantic_type\": \"\",\n        \"description\": \"\"\n      }\n    },\n    {\n      \"column\": \"Occupation\",\n      \"properties\": {\n        \"dtype\": \"number\",\n        \"std\": 6,\n        \"min\": 0,\n        \"max\": 19,\n        \"num_unique_values\": 12,\n        \"samples\": [\n          6,\n          1\n        ],\n        \"semantic_type\": \"\",\n        \"description\": \"\"\n      }\n    },\n    {\n      \"column\": \"City_Category\",\n      \"properties\": {\n        \"dtype\": \"category\",\n        \"num_unique_values\": 3,\n        \"samples\": [\n          \"B\",\n          \"A\"\n        ],\n        \"semantic_type\": \"\",\n        \"description\": \"\"\n      }\n    },\n    {\n      \"column\": \"Stay_In_Current_City_Years\",\n      \"properties\": {\n        \"dtype\": \"category\",\n        \"num_unique_values\": 5,\n        \"samples\": [\n          \"1\",\n          \"2\"\n        ],\n        \"semantic_type\": \"\",\n        \"description\": \"\"\n      }\n    },\n    {\n      \"column\": \"Marital_Status\",\n      \"properties\": {\n        \"dtype\": \"number\",\n        \"std\": 0,\n        \"min\": 0,\n        \"max\": 1,\n        \"num_unique_values\": 2,\n        \"samples\": [\n          1,\n          0\n        ],\n        \"semantic_type\": \"\",\n        \"description\": \"\"\n      }\n    },\n    {\n      \"column\": \"Product_Category\",\n      \"properties\": {\n        \"dtype\": \"number\",\n        \"std\": 4,\n        \"min\": 1,\n        \"max\": 18,\n        \"num_unique_values\": 8,\n        \"samples\": [\n          5,\n          3\n        ],\n        \"semantic_type\": \"\",\n        \"description\": \"\"\n      }\n    },\n    {\n      \"column\": \"Purchase\",\n      \"properties\": {\n        \"dtype\": \"number\",\n        \"std\": 5003,\n        \"min\": 718,\n        \"max\": 19557,\n        \"num_unique_values\": 20,\n        \"samples\": [\n          16647,\n          10065\n        ],\n        \"semantic_type\": \"\",\n        \"description\": \"\"\n      }\n    }\n  ]\n}"
            }
          },
          "metadata": {},
          "execution_count": 96
        }
      ]
    },
    {
      "cell_type": "code",
      "source": [
        "df.isnull().sum()\n",
        "#there are no null value in our dataset"
      ],
      "metadata": {
        "colab": {
          "base_uri": "https://localhost:8080/"
        },
        "id": "kaHDN0sWZG4A",
        "outputId": "201706de-f7fa-4ad6-b946-795f63dc419e"
      },
      "execution_count": null,
      "outputs": [
        {
          "output_type": "execute_result",
          "data": {
            "text/plain": [
              "User_ID                       0\n",
              "Product_ID                    0\n",
              "Gender                        0\n",
              "Age                           0\n",
              "Occupation                    0\n",
              "City_Category                 0\n",
              "Stay_In_Current_City_Years    0\n",
              "Marital_Status                0\n",
              "Product_Category              0\n",
              "Purchase                      0\n",
              "dtype: int64"
            ]
          },
          "metadata": {},
          "execution_count": 127
        }
      ]
    },
    {
      "cell_type": "markdown",
      "source": [
        "# 2.Detect Null values and outliers\n",
        "a. Find the outliers for every continuous variable in the dataset"
      ],
      "metadata": {
        "id": "C90qkf8Ermlq"
      }
    },
    {
      "cell_type": "code",
      "source": [
        "# purchase is the only continuous variable in the dataset\n",
        "#finding outliers for purchase\n",
        "sns.boxplot(y=df['Purchase'])\n"
      ],
      "metadata": {
        "colab": {
          "base_uri": "https://localhost:8080/",
          "height": 431
        },
        "id": "MQki5rTtWn_3",
        "outputId": "f1e930d6-ab50-4243-9cb8-7e66f833196a"
      },
      "execution_count": null,
      "outputs": [
        {
          "output_type": "execute_result",
          "data": {
            "text/plain": [
              "<Axes: ylabel='Purchase'>"
            ]
          },
          "metadata": {},
          "execution_count": 98
        },
        {
          "output_type": "display_data",
          "data": {
            "text/plain": [
              "<Figure size 640x480 with 1 Axes>"
            ],
            "image/png": "[encoded data removed]"
          },
          "metadata": {}
        }
      ]
    },
    {
      "cell_type": "markdown",
      "source": [
        "\n",
        "\n",
        "b.Remove/clip the data between the 5 percentile and 95 percentile"
      ],
      "metadata": {
        "id": "Fl-ZxNxyru7R"
      }
    },
    {
      "cell_type": "code",
      "source": [
        "fifth_percentile = np.percentile(df['Purchase'], 5)\n",
        "Ninteyfifth_fifth_percentile = np.percentile(df['Purchase'], 95)\n",
        "\n",
        "# Clipping the 'Purchase' values between 5 and 95 percentile\n",
        "df['Purchase'] = df['Purchase'].clip(lower=fifth_percentile, upper=Ninteyfifth_fifth_percentile)\n",
        "df['Purchase']"
      ],
      "metadata": {
        "colab": {
          "base_uri": "https://localhost:8080/"
        },
        "id": "XA0J27SmWLAh",
        "outputId": "2b540ada-c2dd-457b-c8b6-69d9793e1381"
      },
      "execution_count": null,
      "outputs": [
        {
          "output_type": "execute_result",
          "data": {
            "text/plain": [
              "0          8370\n",
              "1         15200\n",
              "2          1984\n",
              "3          1984\n",
              "4          7969\n",
              "          ...  \n",
              "550063     1984\n",
              "550064     1984\n",
              "550065     1984\n",
              "550066     1984\n",
              "550067     1984\n",
              "Name: Purchase, Length: 550068, dtype: int64"
            ]
          },
          "metadata": {},
          "execution_count": 99
        }
      ]
    },
    {
      "cell_type": "markdown",
      "source": [
        "3. Data Exploration\n",
        "What products are different age groups buying?"
      ],
      "metadata": {
        "id": "Z1Sr4ny2saDp"
      }
    },
    {
      "cell_type": "code",
      "source": [
        "sns.histplot(data=df, x='Product_Category', hue='Age')\n",
        "plt.show()"
      ],
      "metadata": {
        "colab": {
          "base_uri": "https://localhost:8080/",
          "height": 450
        },
        "id": "RN8JgSliseuw",
        "outputId": "0f4e0109-a72e-4444-ab8b-c5bc193da95d"
      },
      "execution_count": null,
      "outputs": [
        {
          "output_type": "display_data",
          "data": {
            "text/plain": [
              "<Figure size 640x480 with 1 Axes>"
            ],
            "image/png": "[encoded data removed]"
          },
          "metadata": {}
        }
      ]
    },
    {
      "cell_type": "markdown",
      "source": [
        "b. Is there a relationship between age, marital status, and the amount spent?"
      ],
      "metadata": {
        "id": "TFV3UIIguxrJ"
      }
    },
    {
      "cell_type": "code",
      "source": [
        "sns.boxplot(x='Age', y='Purchase', hue='Marital_Status', data=df,)\n",
        "plt.legend(loc =\"upper right\")\n",
        "plt.show()"
      ],
      "metadata": {
        "colab": {
          "base_uri": "https://localhost:8080/",
          "height": 451
        },
        "id": "x2I9SKFpuwje",
        "outputId": "0b27bf33-e3b2-464a-a61a-4f5776b219e4"
      },
      "execution_count": null,
      "outputs": [
        {
          "output_type": "display_data",
          "data": {
            "text/plain": [
              "<Figure size 640x480 with 1 Axes>"
            ],
            "image/png": "[encoded data removed]"
          },
          "metadata": {}
        }
      ]
    },
    {
      "cell_type": "markdown",
      "source": [
        "Are there preferred product categories for different genders?"
      ],
      "metadata": {
        "id": "T6nKAQM6v7HV"
      }
    },
    {
      "cell_type": "code",
      "source": [
        "sns.countplot(x='Product_Category', hue='Gender', data=df, palette='Set2')"
      ],
      "metadata": {
        "colab": {
          "base_uri": "https://localhost:8080/",
          "height": 468
        },
        "id": "deEiSWSMveQz",
        "outputId": "e8cfa141-e994-48bf-9625-45d8e022814d"
      },
      "execution_count": null,
      "outputs": [
        {
          "output_type": "execute_result",
          "data": {
            "text/plain": [
              "<Axes: xlabel='Product_Category', ylabel='count'>"
            ]
          },
          "metadata": {},
          "execution_count": 102
        },
        {
          "output_type": "display_data",
          "data": {
            "text/plain": [
              "<Figure size 640x480 with 1 Axes>"
            ],
            "image/png": "[encoded data removed]"
          },
          "metadata": {}
        }
      ]
    },
    {
      "cell_type": "markdown",
      "source": [
        "4.How does gender affect the amount spent?"
      ],
      "metadata": {
        "id": "G9kJpIsw9wCL"
      }
    },
    {
      "cell_type": "code",
      "source": [
        "from sklearn.utils import resample\n",
        "\n",
        "# Bootstrapping function\n",
        "def bootstrap(data, n_iterations=1000, confidence_level=0.95):\n",
        "    means = []\n",
        "    for i in range(n_iterations):\n",
        "        sample = resample(data)\n",
        "        means.append(np.mean(sample))\n",
        "    lower = np.percentile(means, (1 - confidence_level) / 2 * 100)\n",
        "    upper = np.percentile(means, (1 + confidence_level) / 2 * 100)\n",
        "    return np.mean(data), lower, upper"
      ],
      "metadata": {
        "id": "fckQEjuSqno3"
      },
      "execution_count": null,
      "outputs": []
    },
    {
      "cell_type": "code",
      "source": [
        "# Compute confidence intervals by gender\n",
        "def compute_gender_confidence_intervals(df, sample_size=None, n_iterations=1000, confidence_level=0.95):\n",
        "    results = {}\n",
        "    for gender in df['Gender'].unique():\n",
        "        if sample_size:\n",
        "            data = df[df['Gender'] == gender].sample(n=sample_size, replace=True)['Purchase'].values\n",
        "        else:\n",
        "            data = df[df['Gender'] == gender]['Purchase'].values\n",
        "        mean, lower, upper = bootstrap(data, n_iterations, confidence_level)\n",
        "        results[gender] = (mean, lower, upper)\n",
        "    return results\n",
        "\n",
        "# Compute confidence intervals for the entire dataset\n",
        "results_entire_dataset_gender = compute_gender_confidence_intervals(df)\n",
        "\n",
        "# As our dataset is small, we will only compute for the entire dataset\n",
        "\n"
      ],
      "metadata": {
        "id": "oyov7JHw1cp4"
      },
      "execution_count": null,
      "outputs": []
    },
    {
      "cell_type": "code",
      "source": [
        "results_sample_300_gender = compute_gender_confidence_intervals(df, sample_size=300)\n",
        "results_sample_300_gender"
      ],
      "metadata": {
        "colab": {
          "base_uri": "https://localhost:8080/"
        },
        "id": "bIN_1cirpaTx",
        "outputId": "90eca36c-0195-4b91-cdab-c4a8029600d0"
      },
      "execution_count": null,
      "outputs": [
        {
          "output_type": "execute_result",
          "data": {
            "text/plain": [
              "{'F': (8940.32, 8426.44975, 9467.154166666667),\n",
              " 'M': (9070.873333333333, 8567.943083333334, 9636.308916666667)}"
            ]
          },
          "metadata": {},
          "execution_count": 105
        }
      ]
    },
    {
      "cell_type": "code",
      "source": [
        "results_sample_3000_gender = compute_gender_confidence_intervals(df, sample_size=3000)\n",
        "results_sample_3000_gender"
      ],
      "metadata": {
        "id": "85s-I2PtpabK",
        "colab": {
          "base_uri": "https://localhost:8080/"
        },
        "outputId": "72d20480-ff17-4922-cf5f-796e43673ac6"
      },
      "execution_count": null,
      "outputs": [
        {
          "output_type": "execute_result",
          "data": {
            "text/plain": [
              "{'F': (8700.242333333334, 8518.579808333334, 8860.021991666667),\n",
              " 'M': (9380.101333333334, 9212.617058333333, 9553.954416666666)}"
            ]
          },
          "metadata": {},
          "execution_count": 106
        }
      ]
    },
    {
      "cell_type": "code",
      "source": [
        "results_sample_30000_gender = compute_gender_confidence_intervals(df, sample_size=30000)\n",
        "results_sample_30000_gender"
      ],
      "metadata": {
        "colab": {
          "base_uri": "https://localhost:8080/"
        },
        "id": "muTH4KM6papY",
        "outputId": "495a904c-3340-45ff-edfb-65e0dfc0685e"
      },
      "execution_count": null,
      "outputs": [
        {
          "output_type": "execute_result",
          "data": {
            "text/plain": [
              "{'F': (8712.055766666666, 8659.808772499999, 8766.8198825),\n",
              " 'M': (9420.126833333334, 9364.1370575, 9480.043695833334)}"
            ]
          },
          "metadata": {},
          "execution_count": 107
        }
      ]
    },
    {
      "cell_type": "markdown",
      "source": [
        "How does Marital_Status affect the amount spent?"
      ],
      "metadata": {
        "id": "JjBjCp3H94wJ"
      }
    },
    {
      "cell_type": "code",
      "source": [
        "def Marital_Status_confidence_intervals(df, sample_size=None, n_iterations=1000, confidence_level=0.95):\n",
        "    results = {}\n",
        "    for Marital_Status in df['Marital_Status'].unique():\n",
        "        if sample_size:\n",
        "            data = df[df['Marital_Status'] == Marital_Status].sample(n=sample_size, replace=True)['Purchase'].values\n",
        "        else:\n",
        "            data = df[df['Marital_Status'] == Marital_Status]['Purchase'].values\n",
        "        mean, lower, upper = bootstrap(data, n_iterations, confidence_level)\n",
        "        results[Marital_Status] = (mean, lower, upper)\n",
        "    return results"
      ],
      "metadata": {
        "id": "u-Re7XFpsOgB"
      },
      "execution_count": null,
      "outputs": []
    },
    {
      "cell_type": "code",
      "source": [
        "results_sample_Marital_Status_Entire_Dataset = Marital_Status_confidence_intervals(df)\n",
        "results_sample_Marital_Status_Entire_Dataset"
      ],
      "metadata": {
        "colab": {
          "base_uri": "https://localhost:8080/"
        },
        "id": "Reh-2c7fCIab",
        "outputId": "9d2baf7c-4a9a-4d5a-b06e-9e1deec9bc80"
      },
      "execution_count": null,
      "outputs": [
        {
          "output_type": "execute_result",
          "data": {
            "text/plain": [
              "{0: (9258.820463706883, 9241.523272493232, 9275.102453030353),\n",
              " 1: (9253.669823420034, 9234.767532961741, 9273.376545352074)}"
            ]
          },
          "metadata": {},
          "execution_count": 109
        }
      ]
    },
    {
      "cell_type": "code",
      "source": [
        "results_sample_300_Marital_Status  = Marital_Status_confidence_intervals(df, sample_size=300)\n",
        "results_sample_300_Marital_Status"
      ],
      "metadata": {
        "colab": {
          "base_uri": "https://localhost:8080/"
        },
        "id": "6_ucuxD_srR1",
        "outputId": "4bf04344-11ff-4da3-d533-16ae921a7516"
      },
      "execution_count": null,
      "outputs": [
        {
          "output_type": "execute_result",
          "data": {
            "text/plain": [
              "{0: (9227.21, 8658.234833333334, 9742.490333333333),\n",
              " 1: (8997.353333333333, 8508.32825, 9576.18375)}"
            ]
          },
          "metadata": {},
          "execution_count": 110
        }
      ]
    },
    {
      "cell_type": "code",
      "source": [
        "results_sample_3000_Marital_Status= Marital_Status_confidence_intervals(df, sample_size=3000)\n",
        "results_sample_3000_Marital_Status"
      ],
      "metadata": {
        "colab": {
          "base_uri": "https://localhost:8080/"
        },
        "id": "Xrhx1w05suep",
        "outputId": "9d8c1a99-7fb9-4e0c-c900-01059c90b52b"
      },
      "execution_count": null,
      "outputs": [
        {
          "output_type": "execute_result",
          "data": {
            "text/plain": [
              "{0: (9257.198666666667, 9081.628233333335, 9425.714766666666),\n",
              " 1: (9218.524, 9043.619191666667, 9402.399916666667)}"
            ]
          },
          "metadata": {},
          "execution_count": 111
        }
      ]
    },
    {
      "cell_type": "code",
      "source": [
        "results_sample_30000_Marital_Status = Marital_Status_confidence_intervals(df, sample_size=30000)\n",
        "results_sample_30000_Marital_Status"
      ],
      "metadata": {
        "colab": {
          "base_uri": "https://localhost:8080/"
        },
        "id": "vZnNsFm2sukz",
        "outputId": "d6ad6b3e-5938-4cce-bc13-db1b060c3506"
      },
      "execution_count": null,
      "outputs": [
        {
          "output_type": "execute_result",
          "data": {
            "text/plain": [
              "{0: (9229.890333333333, 9176.825561666667, 9287.712113333333),\n",
              " 1: (9238.983333333334, 9184.073324166666, 9298.042656666667)}"
            ]
          },
          "metadata": {},
          "execution_count": 112
        }
      ]
    },
    {
      "cell_type": "markdown",
      "source": [
        "6. How does Age affect the amount spent?"
      ],
      "metadata": {
        "id": "HaHdojWZ9_Y6"
      }
    },
    {
      "cell_type": "code",
      "source": [
        "def Age_confidence_intervals(df, sample_size=None, n_iterations=1000, confidence_level=0.95):\n",
        "    results = {}\n",
        "    for Age in df['Age'].unique():\n",
        "        if sample_size:\n",
        "            data = df[df['Age'] == Age].sample(n=sample_size, replace=True)['Purchase'].values\n",
        "        else:\n",
        "            data = df[df['Age'] == Age]['Purchase'].values\n",
        "        mean, lower, upper = bootstrap(data, n_iterations, confidence_level)\n",
        "        results[Age] = (mean, lower, upper)\n",
        "    return results"
      ],
      "metadata": {
        "id": "g5SfE5pduBxP"
      },
      "execution_count": null,
      "outputs": []
    },
    {
      "cell_type": "code",
      "source": [
        "results_sample_Entire_dataset_Age = Age_confidence_intervals(df)\n",
        "results_sample_Entire_dataset_Age"
      ],
      "metadata": {
        "colab": {
          "base_uri": "https://localhost:8080/"
        },
        "id": "HTQG2ntPkFZs",
        "outputId": "d8f2a98d-1a04-4435-f9f9-e0190072db39"
      },
      "execution_count": null,
      "outputs": [
        {
          "output_type": "execute_result",
          "data": {
            "text/plain": [
              "{'0-17': (8940.64905310555, 8860.307361607734, 9013.466423321415),\n",
              " '55+': (9327.796549479166, 9270.661808268229, 9391.61019345238),\n",
              " '26-35': (9243.780119041656, 9223.303150232026, 9264.648908974576),\n",
              " '46-50': (9204.211483337345, 9159.61525240148, 9247.178176626332),\n",
              " '51-55': (9514.863250305187, 9461.75586932807, 9560.866563206151),\n",
              " '36-45': (9322.92190922891, 9296.67143087635, 9351.605434130512),\n",
              " '18-25': (9169.010977322898, 9140.05250953241, 9199.53657109171)}"
            ]
          },
          "metadata": {},
          "execution_count": 114
        }
      ]
    },
    {
      "cell_type": "code",
      "source": [
        "results_sample_300_Age = Age_confidence_intervals(df, sample_size=300)\n",
        "results_sample_300_Age"
      ],
      "metadata": {
        "colab": {
          "base_uri": "https://localhost:8080/"
        },
        "id": "-93TXqWDuVmi",
        "outputId": "58af75a5-7d05-4d2d-d92d-6092d22fab62"
      },
      "execution_count": null,
      "outputs": [
        {
          "output_type": "execute_result",
          "data": {
            "text/plain": [
              "{'0-17': (8994.243333333334, 8459.137916666667, 9541.374833333333),\n",
              " '55+': (9307.753333333334, 8794.427083333334, 9852.798083333333),\n",
              " '26-35': (9388.063333333334, 8859.83225, 9921.565999999999),\n",
              " '46-50': (9263.22, 8718.976583333333, 9825.10125),\n",
              " '51-55': (9596.663333333334, 9101.046083333335, 10223.114666666666),\n",
              " '36-45': (8882.186666666666, 8334.469416666667, 9428.327500000001),\n",
              " '18-25': (9622.096666666666, 9059.102333333332, 10169.57825)}"
            ]
          },
          "metadata": {},
          "execution_count": 115
        }
      ]
    },
    {
      "cell_type": "code",
      "source": [
        "results_sample_3000_Age = Age_confidence_intervals(df, sample_size=3000)\n",
        "results_sample_3000_Age"
      ],
      "metadata": {
        "colab": {
          "base_uri": "https://localhost:8080/"
        },
        "id": "uuuMqyETusMo",
        "outputId": "f86436a1-eb39-4d6b-a669-dd82a1ed82ba"
      },
      "execution_count": null,
      "outputs": [
        {
          "output_type": "execute_result",
          "data": {
            "text/plain": [
              "{'0-17': (9009.743666666667, 8843.855375, 9188.771141666666),\n",
              " '55+': (9338.642666666667, 9181.164875, 9519.952791666667),\n",
              " '26-35': (9263.653, 9099.101075, 9449.8699),\n",
              " '46-50': (9335.940333333334, 9172.932016666668, 9501.367375),\n",
              " '51-55': (9654.121333333333, 9486.398458333335, 9830.719475),\n",
              " '36-45': (9224.727666666668, 9064.53085, 9401.264233333333),\n",
              " '18-25': (9160.115333333333, 8973.718016666668, 9326.736125000001)}"
            ]
          },
          "metadata": {},
          "execution_count": 116
        }
      ]
    },
    {
      "cell_type": "code",
      "source": [
        "results_sample_30000_Age = Age_confidence_intervals(df, sample_size=30000)\n",
        "results_sample_30000_Age"
      ],
      "metadata": {
        "colab": {
          "base_uri": "https://localhost:8080/"
        },
        "id": "I1uMcu7UusTq",
        "outputId": "5d3a7bc5-5071-4ed8-8e22-974e2c7b32fb"
      },
      "execution_count": null,
      "outputs": [
        {
          "output_type": "execute_result",
          "data": {
            "text/plain": [
              "{'0-17': (8956.9528, 8903.334283333332, 9013.374614166665),\n",
              " '55+': (9292.255, 9239.617605833333, 9344.942295833334),\n",
              " '26-35': (9205.411766666666, 9151.328183333333, 9262.132740833333),\n",
              " '46-50': (9186.5466, 9136.334074999999, 9233.8504925),\n",
              " '51-55': (9448.114, 9393.84711, 9502.081168333334),\n",
              " '36-45': (9326.731933333333, 9272.604703333333, 9383.015951666668),\n",
              " '18-25': (9135.4684, 9082.0215525, 9191.927003333332)}"
            ]
          },
          "metadata": {},
          "execution_count": 118
        }
      ]
    },
    {
      "cell_type": "markdown",
      "source": [
        "7. Create a report\n",
        "\n",
        "\n",
        "a. Report whether the confidence intervals for the average amount spent by males\n",
        "and females (computed using all the data) overlap. How can Walmart leverage\n",
        "this conclusion to make changes or improvements?"
      ],
      "metadata": {
        "id": "2GEVFWny-FXN"
      }
    },
    {
      "cell_type": "code",
      "source": [
        "# To find this we do a Hypothesis testing on purshase done by male and female and find is there a signicant difference in their average amount spent on the above CLT calcuated\n",
        "Purchase_female = results_entire_dataset_gender['F']\n",
        "Purchase_male = results_entire_dataset_gender['M']\n",
        "t_stat, p_value = stats.ttest_ind(Purchase_female, Purchase_male)\n",
        "print(f\"T-statistic: {t_stat}\")\n",
        "print(f\"P-value: {p_value}\")\n"
      ],
      "metadata": {
        "id": "UaZOUkoHvH2p",
        "colab": {
          "base_uri": "https://localhost:8080/"
        },
        "outputId": "e26d1825-b80e-4f01-b0ac-91681399d7de"
      },
      "execution_count": null,
      "outputs": [
        {
          "output_type": "stream",
          "name": "stdout",
          "text": [
            "T-statistic: -43.411845314439816\n",
            "P-value: 1.6833852649154124e-06\n"
          ]
        }
      ]
    },
    {
      "cell_type": "code",
      "source": [
        " #Determine if we reject or fail to reject the null hypothesis\n",
        "alpha = 0.05\n",
        "if p_value < alpha:\n",
        "    print(\"Reject the null hypothesis: There is a significant difference in average spending between males and females.\")\n",
        "else:\n",
        "    print(\"Fail to reject the null hypothesis: There is no significant difference in average spending between males and females.\")"
      ],
      "metadata": {
        "colab": {
          "base_uri": "https://localhost:8080/"
        },
        "id": "ZaDfaWWj-D4b",
        "outputId": "4194defa-7678-4963-c93c-b64837758df9"
      },
      "execution_count": null,
      "outputs": [
        {
          "output_type": "stream",
          "name": "stdout",
          "text": [
            "Reject the null hypothesis: There is a significant difference in average spending between males and females.\n"
          ]
        }
      ]
    },
    {
      "cell_type": "markdown",
      "source": [
        " Based on above analyis we can conclude  there is a significant difference, Walmart could use this insight to develop targeted marketing campaigns to cater to the differing spending behaviors of males and females."
      ],
      "metadata": {
        "id": "HR6VttJX_mqb"
      }
    },
    {
      "cell_type": "markdown",
      "source": [
        "B.Report whether the confidence intervals for the average amount spent by\n",
        "married and unmarried (computed using all the data) overlap. How can Walmart\n",
        "leverage this conclusion to make changes or improvements?"
      ],
      "metadata": {
        "id": "TG0S6HHfB7Hl"
      }
    },
    {
      "cell_type": "code",
      "source": [
        "amount_spent_by_Unmarried_people = results_sample_Marital_Status_Entire_Dataset[0]\n",
        "amount_spent_by_Married_people = results_sample_Marital_Status_Entire_Dataset[1]\n",
        "t_stat, p_value = stats.ttest_ind(amount_spent_by_Unmarried_people,amount_spent_by_Married_people)\n",
        "print(f\"T-statistic: {t_stat}\")\n",
        "print(f\"P-value: {p_value}\")"
      ],
      "metadata": {
        "colab": {
          "base_uri": "https://localhost:8080/"
        },
        "id": "SJ-kkGvp_WAH",
        "outputId": "507cf027-a090-4023-e8c8-71c30647fcbf"
      },
      "execution_count": null,
      "outputs": [
        {
          "output_type": "stream",
          "name": "stdout",
          "text": [
            "T-statistic: 0.3076018133203413\n",
            "P-value: 0.7737361266118719\n"
          ]
        }
      ]
    },
    {
      "cell_type": "code",
      "source": [
        "if p_value < alpha:\n",
        "    print(\"Reject the null hypothesis: overlap or difference in average spending between married and unmarried individuals.\")\n",
        "else:\n",
        "    print(\"Fail to reject the null hypothesis:overlap or difference in average spending between married and unmarried individuals.\")"
      ],
      "metadata": {
        "colab": {
          "base_uri": "https://localhost:8080/"
        },
        "id": "ct4r42PjDN9k",
        "outputId": "8de2c1b5-cf22-4886-b08f-7ec84a1f20fd"
      },
      "execution_count": null,
      "outputs": [
        {
          "output_type": "stream",
          "name": "stdout",
          "text": [
            "Fail to reject the null hypothesis:overlap or difference in average spending between married and unmarried individuals.\n"
          ]
        }
      ]
    },
    {
      "cell_type": "markdown",
      "source": [
        "Report whether the confidence intervals for the average amount spent by\n",
        "different age groups (computed using all the data) overlap. How can Walmart\n",
        "leverage this conclusion to make changes or improvements?"
      ],
      "metadata": {
        "id": "PFqPRODDFNxu"
      }
    },
    {
      "cell_type": "code",
      "source": [
        "results_sample_Entire_dataset_Age"
      ],
      "metadata": {
        "id": "E_aqDbEBFYJh",
        "colab": {
          "base_uri": "https://localhost:8080/"
        },
        "outputId": "8d5e9252-4dbf-4359-91ad-254f74b295cc"
      },
      "execution_count": null,
      "outputs": [
        {
          "output_type": "execute_result",
          "data": {
            "text/plain": [
              "{'0-17': (8940.64905310555, 8860.307361607734, 9013.466423321415),\n",
              " '55+': (9327.796549479166, 9270.661808268229, 9391.61019345238),\n",
              " '26-35': (9243.780119041656, 9223.303150232026, 9264.648908974576),\n",
              " '46-50': (9204.211483337345, 9159.61525240148, 9247.178176626332),\n",
              " '51-55': (9514.863250305187, 9461.75586932807, 9560.866563206151),\n",
              " '36-45': (9322.92190922891, 9296.67143087635, 9351.605434130512),\n",
              " '18-25': (9169.010977322898, 9140.05250953241, 9199.53657109171)}"
            ]
          },
          "metadata": {},
          "execution_count": 123
        }
      ]
    },
    {
      "cell_type": "code",
      "source": [
        "Age_group_0_to_17 = results_sample_Entire_dataset['0-17']\n",
        "Age_group_18_to_25 = results_sample_Entire_dataset['18-25']\n",
        "Age_group_26_to_35 = results_sample_Entire_dataset['26-35']\n",
        "Age_group_46_to_50 = results_sample_Entire_dataset['46-50']\n",
        "Age_group_55_Plus = results_sample_Entire_dataset['46-50']\n",
        "f_oneway(Age_group_0_to_17,Age_group_18_to_25,Age_group_26_to_35,Age_group_46_to_50,Age_group_55_Plus)\n"
      ],
      "metadata": {
        "colab": {
          "base_uri": "https://localhost:8080/"
        },
        "id": "-0_x0BD9mOI8",
        "outputId": "54bf10b6-ac73-446b-df7a-d5bd2871b5e7"
      },
      "execution_count": null,
      "outputs": [
        {
          "output_type": "execute_result",
          "data": {
            "text/plain": [
              "F_onewayResult(statistic=20.515342438988494, pvalue=8.251968520677007e-05)"
            ]
          },
          "metadata": {},
          "execution_count": 124
        }
      ]
    },
    {
      "cell_type": "code",
      "source": [
        "if p_value < alpha:\n",
        "  print(\"Reject the null hypothesis: overlap or difference in average spending between various age groups\")\n",
        "else:\n",
        "    print(\"Fail to reject the null hypothesis:overlap or difference in average spending between spending between various age groups\")"
      ],
      "metadata": {
        "colab": {
          "base_uri": "https://localhost:8080/"
        },
        "id": "CXFsDyQ0o6wz",
        "outputId": "7b668605-e24d-49e2-a4cc-01a691b64f7c"
      },
      "execution_count": null,
      "outputs": [
        {
          "output_type": "stream",
          "name": "stdout",
          "text": [
            "Fail to reject the null hypothesis:overlap or difference in average spending between spending between various age groups\n"
          ]
        }
      ]
    },
    {
      "cell_type": "code",
      "source": [
        "sns.histplot(results_sample_Entire_dataset, kde = True)\n",
        "plt.show()"
      ],
      "metadata": {
        "colab": {
          "base_uri": "https://localhost:8080/",
          "height": 430
        },
        "id": "44EAYVsUpZcN",
        "outputId": "13803efd-9860-4df0-98d1-cdc4d75e1a5b"
      },
      "execution_count": null,
      "outputs": [
        {
          "output_type": "display_data",
          "data": {
            "text/plain": [
              "<Figure size 640x480 with 1 Axes>"
            ],
            "image/png": "[encoded data removed]"
          },
          "metadata": {}
        }
      ]
    },
    {
      "cell_type": "code",
      "source": [
        "sns.histplot(results_sample_3000_Age, kde = True)\n",
        "plt.show()"
      ],
      "metadata": {
        "colab": {
          "base_uri": "https://localhost:8080/",
          "height": 430
        },
        "id": "nv-Qijy93c9D",
        "outputId": "a6d67dd8-85bf-4db3-93f4-f4c9e1ea8bd2"
      },
      "execution_count": null,
      "outputs": [
        {
          "output_type": "display_data",
          "data": {
            "text/plain": [
              "<Figure size 640x480 with 1 Axes>"
            ],
            "image/png": "[encoded data removed]"
          },
          "metadata": {}
        }
      ]
    }
  ],
  "metadata": {
    "colab": {
      "provenance": [],
      "authorship_tag": "ABX9TyPNJo+gmEalgZ3+hCZUs6TE",
      "include_colab_link": true
    },
    "kernelspec": {
      "display_name": "Python 3",
      "name": "python3"
    },
    "language_info": {
      "name": "python"
    }
  },
  "nbformat": 4,
  "nbformat_minor": 0
}